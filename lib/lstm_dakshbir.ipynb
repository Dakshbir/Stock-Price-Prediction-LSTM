{
 "cells": [
  {
   "cell_type": "markdown",
   "id": "208cda7f",
   "metadata": {},
   "source": [
    "# **Stock Price Prediction using LSTM and RNN**"
   ]
  },
  {
   "cell_type": "markdown",
   "id": "2cb5f9ec",
   "metadata": {},
   "source": [
    "## Project Overview\n",
    "\n",
    "Stock price prediction is a valuable tool in financial markets, benefiting businesses, investors, and financial institutions.\n",
    "\n",
    "- For investors and fund managers, accurate stock price predictions enable better decision-making. These predictions help in identifying potential profit opportunities and minimizing losses, allowing for smarter allocation of capital and portfolio adjustments based on expected price changes.\n",
    "\n",
    "- Machine learning and deep learning techniques have shown promise in improving stock price predictions, providing useful insights for businesses. These methods can refine investment strategies, offer a competitive edge, and enhance risk management in the complex stock market environment.\n",
    "\n",
    "- Predicting stock prices is challenging due to market volatility and complexity. Traditional methods often struggle to capture subtle patterns in stock price data. However, recurrent neural networks (RNNs) and long short-term memory (LSTM) models are capable of revealing temporal relationships and making accurate predictions in various time series forecasting tasks.\n",
    "\n",
    "- Throughout the project, we will explore the basics of RNNs and LSTMs and their ability to capture temporal patterns in Tesla stock price data. We will also cover data preparation steps to get historical stock price data ready for training and testing our models."
   ]
  },
  {
   "cell_type": "markdown",
   "id": "416c9bc6",
   "metadata": {},
   "source": [
    "## **Outcomes**\n",
    "\n",
    "* Load and preprocess time series data for Tesla stock prices, ensuring data quality and consistency.\n",
    "\n",
    "* Approach Tesla stock price prediction as a time series forecasting problem, respecting the temporal order of data and creating distinct training and testing sets.\n",
    "\n",
    "* Recurrent neural networks (RNNs) and their capacity to handle sequential data and capture temporal dependencies.\n",
    "\n",
    "* Long short-term memory (LSTM) networks, a specialized variant of RNNs optimized for capturing long-term dependencies.\n",
    "\n",
    "* Incorporation of additional features or factors, such as Relative Strength Index (RSI) and Exponential Moving Average (EMA), to create a multivariate input model that enhances prediction accuracy.\n",
    "\n",
    "* Recognize the challenges and constraints inherent in Tesla stock price prediction, including market volatility, unforeseen events, and the presence of noise in financial markets."
   ]
  },
  {
   "cell_type": "markdown",
   "id": "6ee874b9",
   "metadata": {},
   "source": [
    "## Key Libraries Used\n",
    "\n",
    "* **yfinance**: yfinance simplifies the process of downloading historical market data from Yahoo Finance. [yfinance GitHub repository](https://github.com/ranaroussi/yfinance).\n",
    "\n",
    "* **pandas_datareader**: pandas_datareader provides convenient access to online data sources, including Yahoo Finance, for retrieving financial data. [pandas_datareader documentation](https://pandas-datareader.readthedocs.io/)\n",
    "\n",
    "* **pandas_ta**: pandas_ta expands Pandas capabilities by introducing technical analysis indicators for analyzing financial data. [pandas_ta GitHub repository](https://github.com/twopirllc/pandas-ta).\n"
   ]
  },
  {
   "cell_type": "markdown",
   "id": "b933a514",
   "metadata": {},
   "source": [
    "### Install Packages\n"
   ]
  },
  {
   "cell_type": "code",
   "execution_count": null,
   "id": "722afadc",
   "metadata": {
    "vscode": {
     "languageId": "plaintext"
    }
   },
   "outputs": [],
   "source": [
    "# Install required packages\n",
    "import warnings\n",
    "warnings.filterwarnings('ignore')\n",
    "\n",
    "# Updated package versions for better compatibility and performance\n",
    "!pip install tensorflow==2.15.0\n",
    "!pip install statsmodels==0.14.0\n",
    "!pip install numpy==1.24.3\n",
    "!pip install scikit-learn==1.3.0\n",
    "!pip install seaborn==0.12.2\n",
    "!pip install matplotlib==3.7.1\n",
    "!pip install pandas==2.0.3\n",
    "!pip install yfinance==0.2.20\n",
    "!pip install pandas_datareader==0.10.0\n",
    "!pip install pandas_ta==0.3.14b\n",
    "!pip install projectpro\n"
   ]
  },
  {
   "cell_type": "markdown",
   "id": "e45f6dbb",
   "metadata": {},
   "source": [
    "### **Import Libraries**"
   ]
  },
  {
   "cell_type": "code",
   "execution_count": null,
   "id": "4b90b611",
   "metadata": {
    "vscode": {
     "languageId": "plaintext"
    }
   },
   "outputs": [],
   "source": [
    "# Import all necessary libraries\n",
    "from datetime import datetime, timedelta\n",
    "import tensorflow as tf\n",
    "import pandas as pd\n",
    "import numpy as np\n",
    "import matplotlib.pyplot as plt\n",
    "import seaborn as sns\n",
    "import keras\n",
    "import yfinance as yf\n",
    "from sklearn.metrics import mean_squared_error, mean_absolute_error\n",
    "from statsmodels.tsa.seasonal import seasonal_decompose\n",
    "from sklearn.preprocessing import MinMaxScaler\n",
    "from pandas_datareader.data import DataReader\n",
    "from pandas_datareader import data as pdr\n",
    "import pandas_ta as ta\n",
    "from projectpro import model_snapshot, checkpoint\n",
    "from keras.layers import LSTM, SimpleRNN, Dropout\n",
    "from keras.models import Sequential\n",
    "from keras.layers import Dense\n",
    "from keras.callbacks import EarlyStopping, ReduceLROnPlateau\n",
    "import os\n",
    "\n",
    "# Set configurations\n",
    "keras.backend.set_image_data_format(\"channels_last\")\n",
    "sns.set_style('whitegrid')\n",
    "plt.style.use(\"fivethirtyeight\") \n",
    "%matplotlib inline\n",
    "\n",
    "# Override Yahoo Finance downloader\n",
    "yf.pdr_override()\n",
    "\n",
    "# Create output directories\n",
    "os.makedirs('output', exist_ok=True)\n",
    "os.makedirs('output/models', exist_ok=True)\n",
    "os.makedirs('output/figures', exist_ok=True)\n",
    "\n",
    "print(\"✓ All libraries imported successfully!\")\n",
    "print(\"✓ Output directories created!\")\n"
   ]
  },
  {
   "cell_type": "markdown",
   "id": "2fe7d3c7",
   "metadata": {},
   "source": [
    "# Simple Neural Network demonstration with Abalone dataset"
   ]
  },
  {
   "cell_type": "code",
   "execution_count": null,
   "id": "9a3ccbf1",
   "metadata": {
    "vscode": {
     "languageId": "plaintext"
    }
   },
   "outputs": [],
   "source": [
    "# Simple Neural Network demonstration with Abalone dataset\n",
    "print(\"Demonstrating neural network basics with Abalone dataset...\")\n",
    "\n",
    "# Define abalone features\n",
    "abalone_features = [\"Length\", \"Diameter\", \"Height\", \"Whole weight\", \"Shucked weight\", \n",
    "                    \"Viscera weight\", \"Shell weight\", \"Age\"]\n",
    "\n",
    "# Load abalone data\n",
    "abalone_train = pd.read_csv(\n",
    "    \"https://storage.googleapis.com/download.tensorflow.org/data/abalone_train.csv\",\n",
    "    names=abalone_features)\n",
    "\n",
    "abalone_test = pd.read_csv(\n",
    "    \"https://storage.googleapis.com/download.tensorflow.org/data/abalone_test.csv\",\n",
    "    names=abalone_features)\n",
    "\n",
    "print(\"Abalone dataset loaded successfully!\")\n",
    "abalone_train.head()\n"
   ]
  },
  {
   "cell_type": "code",
   "execution_count": null,
   "id": "1056f264",
   "metadata": {
    "vscode": {
     "languageId": "plaintext"
    }
   },
   "outputs": [],
   "source": [
    "# Prepare abalone data\n",
    "abalone_train_features = abalone_train.copy()\n",
    "abalone_train_labels = abalone_train_features.pop('Age')\n",
    "\n",
    "abalone_test_features = abalone_test.copy()\n",
    "abalone_test_labels = abalone_test_features.pop('Age')\n",
    "\n",
    "# Create normalization layer\n",
    "normalize = tf.keras.layers.Normalization()\n",
    "normalize.adapt(abalone_train_features)\n",
    "\n",
    "# Create and compile abalone model\n",
    "abalone_model = tf.keras.Sequential([\n",
    "    normalize,\n",
    "    tf.keras.layers.Dense(64, activation='relu'),\n",
    "    tf.keras.layers.Dropout(0.2),\n",
    "    tf.keras.layers.Dense(1)\n",
    "])\n",
    "\n",
    "abalone_model.compile(\n",
    "    loss=tf.keras.losses.MeanSquaredError(),\n",
    "    optimizer=tf.keras.optimizers.Adam(learning_rate=0.001),\n",
    "    metrics=['mae']\n",
    ")\n",
    "\n",
    "# Train the model\n",
    "print(\"Training Abalone model...\")\n",
    "abalone_model.fit(\n",
    "    abalone_train_features, abalone_train_labels,\n",
    "    epochs=10, validation_split=0.2, verbose=1\n",
    ")\n",
    "\n",
    "# Evaluate the model\n",
    "predictions = abalone_model.predict(abalone_test_features)\n",
    "squared_error = tf.keras.metrics.MeanSquaredError()\n",
    "squared_error.update_state(abalone_test_labels, predictions)\n",
    "print(f'Mean Squared Error for test set: {squared_error.result().numpy():.4f}')\n"
   ]
  },
  {
   "cell_type": "code",
   "execution_count": null,
   "id": "02ff83ca",
   "metadata": {
    "vscode": {
     "languageId": "plaintext"
    }
   },
   "outputs": [],
   "source": [
    "# Load Tesla stock data\n",
    "print(\"Loading Tesla (TSLA) stock data...\")\n",
    "\n",
    "# Retrieve historical stock price data for TSLA\n",
    "dataset = pdr.get_data_yahoo('TSLA', start='2012-01-01', end=datetime.now())\n",
    "\n",
    "print(f\"✓ Tesla stock data loaded successfully!\")\n",
    "print(f\"Data shape: {dataset.shape}\")\n",
    "print(f\"Date range: {dataset.index[0]} to {dataset.index[-1]}\")\n",
    "\n",
    "# Display first few rows\n",
    "dataset.head()\n"
   ]
  },
  {
   "cell_type": "code",
   "execution_count": null,
   "id": "b5faa4c8",
   "metadata": {
    "vscode": {
     "languageId": "plaintext"
    }
   },
   "outputs": [],
   "source": [
    "# Data quality check and preprocessing\n",
    "print(\"Performing data quality checks...\")\n",
    "\n",
    "# Check for missing values\n",
    "print(\"Missing values per column:\")\n",
    "print(dataset.isnull().sum())\n",
    "\n",
    "# Fill missing values if any\n",
    "dataset.fillna(method='ffill', inplace=True)\n",
    "\n",
    "# Check for remaining missing values\n",
    "if dataset.isnull().sum().sum() > 0:\n",
    "    dataset.dropna(inplace=True)\n",
    "    print(\"Remaining missing values removed\")\n",
    "\n",
    "print(f\"✓ Final dataset shape: {dataset.shape}\")\n",
    "print(\"✓ Data preprocessing completed!\")\n"
   ]
  },
  {
   "cell_type": "code",
   "execution_count": null,
   "id": "8c6b0aff",
   "metadata": {
    "vscode": {
     "languageId": "plaintext"
    }
   },
   "outputs": [],
   "source": [
    "# Define time periods for Tesla (adjusted for Tesla's IPO and market stability)\n",
    "tstart = 2017  # Start year for training\n",
    "tend = 2022    # End year for training\n",
    "\n",
    "print(f\"Training period: {tstart} to {tend}\")\n",
    "print(f\"Test period: {tend+1} onwards\")\n",
    "\n",
    "# Define plotting function\n",
    "def train_test_plot(dataset, tstart, tend, stock_name=\"Tesla\"):\n",
    "    \"\"\"Plot training and test data for stock prices\"\"\"\n",
    "    plt.figure(figsize=(16, 6))\n",
    "    \n",
    "    # Plot training data\n",
    "    dataset.loc[f\"{tstart}\":f\"{tend}\", \"High\"].plot(\n",
    "        legend=True, label=f\"Train (Before {tend+1})\")\n",
    "    \n",
    "    # Plot test data\n",
    "    dataset.loc[f\"{tend+1}\":, \"High\"].plot(\n",
    "        legend=True, label=f\"Test ({tend+1} and beyond)\")\n",
    "    \n",
    "    plt.legend()\n",
    "    plt.title(f\"{stock_name} Stock Price - Training vs Test Data\")\n",
    "    plt.xlabel(\"Date\")\n",
    "    plt.ylabel(\"Price ($)\")\n",
    "    plt.grid(True, alpha=0.3)\n",
    "    plt.tight_layout()\n",
    "    plt.show()\n",
    "\n",
    "# Plot the data split\n",
    "train_test_plot(dataset, tstart, tend, \"Tesla\")\n"
   ]
  },
  {
   "cell_type": "code",
   "execution_count": null,
   "id": "1a2d8edd",
   "metadata": {
    "vscode": {
     "languageId": "plaintext"
    }
   },
   "outputs": [],
   "source": [
    "# Define data splitting function\n",
    "def train_test_split(dataset, tstart, tend, columns=['High']):\n",
    "    \"\"\"Split dataset into training and test sets based on time periods\"\"\"\n",
    "    train = dataset.loc[f\"{tstart}\":f\"{tend}\", columns].values\n",
    "    test = dataset.loc[f\"{tend+1}\":, columns].values\n",
    "    \n",
    "    print(f\"Training data shape: {train.shape}\")\n",
    "    print(f\"Test data shape: {test.shape}\")\n",
    "    \n",
    "    return train, test\n",
    "\n",
    "# Split the dataset\n",
    "training_set, test_set = train_test_split(dataset, tstart, tend)\n",
    "\n",
    "# Scale the data\n",
    "sc = MinMaxScaler(feature_range=(0, 1))\n",
    "training_set = training_set.reshape(-1, 1)\n",
    "training_set_scaled = sc.fit_transform(training_set)\n",
    "\n",
    "print(f\"✓ Training set scaled successfully!\")\n",
    "print(f\"Scaled training set shape: {training_set_scaled.shape}\")\n"
   ]
  },
  {
   "cell_type": "code",
   "execution_count": null,
   "id": "4db95e16",
   "metadata": {
    "vscode": {
     "languageId": "plaintext"
    }
   },
   "outputs": [],
   "source": [
    "# Create sequences for time series modeling\n",
    "n_steps = 60  # Increased from 1 to 60 for better temporal pattern capture\n",
    "features = 1\n",
    "\n",
    "def split_sequence(sequence, n_steps):\n",
    "    \"\"\"Split a sequence into input and output sequences for time series forecasting\"\"\"\n",
    "    X, y = list(), list()\n",
    "    for i in range(len(sequence)):\n",
    "        end_ix = i + n_steps\n",
    "        if end_ix > len(sequence) - 1:\n",
    "            break\n",
    "        seq_x, seq_y = sequence[i:end_ix], sequence[end_ix]\n",
    "        X.append(seq_x)\n",
    "        y.append(seq_y)\n",
    "    return np.array(X), np.array(y)\n",
    "\n",
    "# Create training sequences\n",
    "X_train, y_train = split_sequence(training_set_scaled, n_steps)\n",
    "X_train = X_train.reshape(X_train.shape[0], X_train.shape[1], features)\n",
    "\n",
    "print(f\"✓ X_train shape: {X_train.shape}\")\n",
    "print(f\"✓ y_train shape: {y_train.shape}\")\n"
   ]
  },
  {
   "cell_type": "code",
   "execution_count": null,
   "id": "636b78cf",
   "metadata": {
    "vscode": {
     "languageId": "plaintext"
    }
   },
   "outputs": [],
   "source": [
    "# Define evaluation and plotting functions\n",
    "def plot_predictions(test, predicted, title, save_path=None):\n",
    "    \"\"\"Plot real and predicted values for time series forecasting\"\"\"\n",
    "    plt.figure(figsize=(16, 8))\n",
    "    \n",
    "    plt.plot(test, color=\"blue\", label=\"Actual\", linewidth=2)\n",
    "    plt.plot(predicted, color=\"red\", label=\"Predicted\", linewidth=2, alpha=0.8)\n",
    "    \n",
    "    plt.title(f'{title}', fontsize=16, fontweight='bold')\n",
    "    plt.xlabel(\"Time\", fontsize=12)\n",
    "    plt.ylabel(\"Stock Price ($)\", fontsize=12)\n",
    "    plt.legend(fontsize=12)\n",
    "    plt.grid(True, alpha=0.3)\n",
    "    \n",
    "    if save_path:\n",
    "        plt.savefig(save_path, dpi=300, bbox_inches='tight')\n",
    "        print(f\"Plot saved to {save_path}\")\n",
    "    \n",
    "    plt.tight_layout()\n",
    "    plt.show()\n",
    "\n",
    "def calculate_metrics(test, predicted):\n",
    "    \"\"\"Calculate comprehensive evaluation metrics\"\"\"\n",
    "    rmse = np.sqrt(mean_squared_error(test, predicted))\n",
    "    mae = mean_absolute_error(test, predicted)\n",
    "    mape = np.mean(np.abs((test - predicted) / test)) * 100\n",
    "    \n",
    "    test_direction = np.diff(test.flatten()) > 0\n",
    "    pred_direction = np.diff(predicted.flatten()) > 0\n",
    "    directional_accuracy = np.mean(test_direction == pred_direction) * 100\n",
    "    \n",
    "    print(\"=\"*50)\n",
    "    print(\"MODEL EVALUATION METRICS\")\n",
    "    print(\"=\"*50)\n",
    "    print(f\"Root Mean Squared Error (RMSE): ${rmse:.2f}\")\n",
    "    print(f\"Mean Absolute Error (MAE): ${mae:.2f}\")\n",
    "    print(f\"Mean Absolute Percentage Error (MAPE): {mape:.2f}%\")\n",
    "    print(f\"Directional Accuracy: {directional_accuracy:.2f}%\")\n",
    "    print(\"=\"*50)\n",
    "    \n",
    "    return {\n",
    "        'RMSE': rmse,\n",
    "        'MAE': mae,\n",
    "        'MAPE': mape,\n",
    "        'Directional_Accuracy': directional_accuracy\n",
    "    }\n",
    "\n",
    "def plot_loss(history, title=\"Training Loss\", save_path=None):\n",
    "    \"\"\"Plot training loss over epochs\"\"\"\n",
    "    plt.figure(figsize=(12, 6))\n",
    "    \n",
    "    plt.plot(history.history['loss'], label='Training Loss', linewidth=2)\n",
    "    if 'val_loss' in history.history:\n",
    "        plt.plot(history.history['val_loss'], label='Validation Loss', linewidth=2)\n",
    "    \n",
    "    plt.title(title, fontsize=16, fontweight='bold')\n",
    "    plt.xlabel('Epoch', fontsize=12)\n",
    "    plt.ylabel('Loss', fontsize=12)\n",
    "    plt.legend(fontsize=12)\n",
    "    plt.grid(True, alpha=0.3)\n",
    "    \n",
    "    if save_path:\n",
    "        plt.savefig(save_path, dpi=300, bbox_inches='tight')\n",
    "        print(f\"Loss plot saved to {save_path}\")\n",
    "    \n",
    "    plt.tight_layout()\n",
    "    plt.show()\n",
    "\n",
    "print(\"✓ Evaluation functions defined successfully!\")\n"
   ]
  },
  {
   "cell_type": "code",
   "execution_count": null,
   "id": "fac7f824",
   "metadata": {
    "vscode": {
     "languageId": "plaintext"
    }
   },
   "outputs": [],
   "source": [
    "# Create enhanced RNN model\n",
    "print(\"Building Enhanced RNN Model...\")\n",
    "\n",
    "model_rnn = Sequential([\n",
    "    SimpleRNN(units=50, return_sequences=True, input_shape=(n_steps, features)),\n",
    "    Dropout(0.2),\n",
    "    SimpleRNN(units=50, return_sequences=True),\n",
    "    Dropout(0.2),\n",
    "    SimpleRNN(units=50),\n",
    "    Dropout(0.2),\n",
    "    Dense(units=25, activation='relu'),\n",
    "    Dense(units=1)\n",
    "])\n",
    "\n",
    "# Compile the model\n",
    "model_rnn.compile(\n",
    "    optimizer=tf.keras.optimizers.Adam(learning_rate=0.001),\n",
    "    loss=\"mse\",\n",
    "    metrics=['mae']\n",
    ")\n",
    "\n",
    "print(\"RNN Model Architecture:\")\n",
    "model_rnn.summary()\n"
   ]
  },
  {
   "cell_type": "markdown",
   "id": "3c567f39",
   "metadata": {},
   "source": [
    "# Train RNN Model"
   ]
  },
  {
   "cell_type": "code",
   "execution_count": null,
   "id": "3902d759",
   "metadata": {
    "vscode": {
     "languageId": "plaintext"
    }
   },
   "outputs": [],
   "source": [
    "# Define callbacks\n",
    "early_stopping = EarlyStopping(\n",
    "    monitor='val_loss',\n",
    "    patience=10,\n",
    "    restore_best_weights=True\n",
    ")\n",
    "\n",
    "reduce_lr = ReduceLROnPlateau(\n",
    "    monitor='val_loss',\n",
    "    factor=0.5,\n",
    "    patience=5,\n",
    "    min_lr=0.0001\n",
    ")\n",
    "\n",
    "# Train RNN model\n",
    "print(\"Training RNN model...\")\n",
    "history_rnn = model_rnn.fit(\n",
    "    X_train, y_train,\n",
    "    epochs=50,\n",
    "    batch_size=32,\n",
    "    validation_split=0.2,\n",
    "    callbacks=[early_stopping, reduce_lr],\n",
    "    verbose=1\n",
    ")\n",
    "\n",
    "# Plot training history\n",
    "plot_loss(history_rnn, \"RNN Training History\", \"output/figures/rnn_training_loss.png\")\n"
   ]
  },
  {
   "cell_type": "markdown",
   "id": "adfbf3ce",
   "metadata": {},
   "source": [
    "# Evaluate RNN Model"
   ]
  },
  {
   "cell_type": "code",
   "execution_count": null,
   "id": "9932a840",
   "metadata": {
    "vscode": {
     "languageId": "plaintext"
    }
   },
   "outputs": [],
   "source": [
    "# Prepare test data and make predictions\n",
    "inputs = sc.transform(test_set.reshape(-1, 1))\n",
    "X_test, y_test = split_sequence(inputs, n_steps)\n",
    "X_test = X_test.reshape(-1, n_steps, features)\n",
    "\n",
    "print(f\"Test data prepared - X_test shape: {X_test.shape}, y_test shape: {y_test.shape}\")\n",
    "\n",
    "# Make predictions\n",
    "predicted_stock_price_rnn = model_rnn.predict(X_test)\n",
    "predicted_stock_price_rnn = sc.inverse_transform(predicted_stock_price_rnn)\n",
    "y_test_actual = sc.inverse_transform(y_test.reshape(-1, 1))\n",
    "\n",
    "# Plot predictions\n",
    "plot_predictions(y_test_actual, predicted_stock_price_rnn, \n",
    "                \"Tesla Stock Price Prediction - RNN\", \n",
    "                \"output/figures/rnn_predictions.png\")\n",
    "\n",
    "# Calculate metrics\n",
    "rnn_metrics = calculate_metrics(y_test_actual, predicted_stock_price_rnn)\n"
   ]
  },
  {
   "cell_type": "markdown",
   "id": "18bfd657",
   "metadata": {},
   "source": [
    "# Generate Future Predictions with RNN"
   ]
  },
  {
   "cell_type": "code",
   "execution_count": null,
   "id": "1515ffa2",
   "metadata": {
    "vscode": {
     "languageId": "plaintext"
    }
   },
   "outputs": [],
   "source": [
    "# Define sequence generation function\n",
    "def sequence_generation(dataset, sc, model, steps_future, n_steps):\n",
    "    \"\"\"Generate future stock price predictions using sequence generation\"\"\"\n",
    "    high_dataset = dataset.iloc[len(dataset) - len(test_set) - n_steps:][\"High\"]\n",
    "    high_dataset = sc.transform(high_dataset.values.reshape(-1, 1))\n",
    "    inputs = high_dataset[-n_steps:]\n",
    "    \n",
    "    predictions = []\n",
    "    current_input = inputs.copy()\n",
    "    \n",
    "    for i in range(steps_future):\n",
    "        curr_pred = model.predict(current_input.reshape(1, n_steps, features), verbose=0)\n",
    "        predictions.append(curr_pred[0, 0])\n",
    "        current_input = np.append(current_input[1:], curr_pred, axis=0)\n",
    "    \n",
    "    predictions = np.array(predictions).reshape(-1, 1)\n",
    "    return sc.inverse_transform(predictions)\n",
    "\n",
    "# Generate future predictions\n",
    "steps_in_future = 30\n",
    "print(\"Generating future predictions with RNN...\")\n",
    "future_predictions_rnn = sequence_generation(dataset, sc, model_rnn, steps_in_future, n_steps)\n",
    "\n",
    "# Plot future predictions\n",
    "plot_predictions(y_test_actual[:steps_in_future], future_predictions_rnn, \n",
    "                \"Tesla Stock Price - RNN Future Predictions\", \n",
    "                \"output/figures/rnn_future_predictions.png\")\n",
    "\n",
    "# Save RNN model\n",
    "model_rnn.save(\"output/models/tesla_rnn_model.h5\")\n",
    "print(\"✓ RNN model saved successfully!\")\n"
   ]
  },
  {
   "cell_type": "markdown",
   "id": "48dca1f8",
   "metadata": {},
   "source": [
    "# Build and Train Enhanced LSTM Model"
   ]
  },
  {
   "cell_type": "code",
   "execution_count": null,
   "id": "fffa1d1b",
   "metadata": {
    "vscode": {
     "languageId": "plaintext"
    }
   },
   "outputs": [],
   "source": [
    "# Create enhanced LSTM model\n",
    "print(\"Building Enhanced LSTM Model...\")\n",
    "\n",
    "model_lstm = Sequential([\n",
    "    LSTM(units=50, return_sequences=True, input_shape=(n_steps, features)),\n",
    "    Dropout(0.2),\n",
    "    LSTM(units=50, return_sequences=True),\n",
    "    Dropout(0.2),\n",
    "    LSTM(units=50),\n",
    "    Dropout(0.2),\n",
    "    Dense(units=25, activation='relu'),\n",
    "    Dense(units=1)\n",
    "])\n",
    "\n",
    "# Compile the model\n",
    "model_lstm.compile(\n",
    "    optimizer=tf.keras.optimizers.Adam(learning_rate=0.001),\n",
    "    loss=\"mse\",\n",
    "    metrics=['mae']\n",
    ")\n",
    "\n",
    "print(\"LSTM Model Architecture:\")\n",
    "model_lstm.summary()\n",
    "\n",
    "# Train LSTM model\n",
    "print(\"Training LSTM model...\")\n",
    "history_lstm = model_lstm.fit(\n",
    "    X_train, y_train,\n",
    "    epochs=50,\n",
    "    batch_size=32,\n",
    "    validation_split=0.2,\n",
    "    callbacks=[early_stopping, reduce_lr],\n",
    "    verbose=1\n",
    ")\n",
    "\n",
    "# Plot training history\n",
    "plot_loss(history_lstm, \"LSTM Training History\", \"output/figures/lstm_training_loss.png\")\n"
   ]
  },
  {
   "cell_type": "code",
   "execution_count": null,
   "id": "b275f1a2",
   "metadata": {
    "vscode": {
     "languageId": "plaintext"
    }
   },
   "outputs": [],
   "source": [
    "# Make predictions with LSTM\n",
    "predicted_stock_price_lstm = model_lstm.predict(X_test)\n",
    "predicted_stock_price_lstm = sc.inverse_transform(predicted_stock_price_lstm)\n",
    "\n",
    "# Plot LSTM predictions\n",
    "plot_predictions(y_test_actual, predicted_stock_price_lstm, \n",
    "                \"Tesla Stock Price Prediction - LSTM\",\n",
    "                \"output/figures/lstm_predictions.png\")\n",
    "\n",
    "# Calculate LSTM metrics\n",
    "lstm_metrics = calculate_metrics(y_test_actual, predicted_stock_price_lstm)\n",
    "\n",
    "# Generate future predictions with LSTM\n",
    "print(\"Generating future predictions with LSTM...\")\n",
    "future_predictions_lstm = sequence_generation(dataset, sc, model_lstm, steps_in_future, n_steps)\n",
    "\n",
    "# Plot LSTM future predictions\n",
    "plot_predictions(y_test_actual[:steps_in_future], future_predictions_lstm, \n",
    "                \"Tesla Stock Price - LSTM Future Predictions\",\n",
    "                \"output/figures/lstm_future_predictions.png\")\n",
    "\n",
    "# Save LSTM model\n",
    "model_lstm.save(\"output/models/tesla_lstm_model.h5\")\n",
    "print(\"✓ LSTM model saved successfully!\")\n"
   ]
  },
  {
   "cell_type": "markdown",
   "id": "a96b2c68",
   "metadata": {},
   "source": [
    "# Prepare Multivariate Data with Technical Indicators"
   ]
  },
  {
   "cell_type": "code",
   "execution_count": null,
   "id": "33871fb8",
   "metadata": {
    "vscode": {
     "languageId": "plaintext"
    }
   },
   "outputs": [],
   "source": [
    "# Prepare multivariate data with technical indicators\n",
    "print(\"Preparing multivariate data with technical indicators...\")\n",
    "\n",
    "mv_features = 8\n",
    "multi_variate_df = dataset.copy()\n",
    "\n",
    "# Calculate technical indicators\n",
    "print(\"Calculating technical indicators for Tesla...\")\n",
    "\n",
    "# RSI\n",
    "multi_variate_df['RSI'] = ta.rsi(multi_variate_df.Close, length=14)\n",
    "\n",
    "# Multiple EMAs\n",
    "multi_variate_df['EMA_12'] = ta.ema(multi_variate_df.Close, length=12)\n",
    "multi_variate_df['EMA_26'] = ta.ema(multi_variate_df.Close, length=26)\n",
    "multi_variate_df['EMA_50'] = ta.ema(multi_variate_df.Close, length=50)\n",
    "\n",
    "# MACD\n",
    "macd_data = ta.macd(multi_variate_df.Close)\n",
    "multi_variate_df['MACD'] = macd_data['MACD_12_26_9']\n",
    "\n",
    "# Bollinger Bands\n",
    "bb_data = ta.bbands(multi_variate_df.Close, length=20)\n",
    "multi_variate_df['BB_Upper'] = bb_data['BBU_20_2.0']\n",
    "multi_variate_df['BB_Lower'] = bb_data['BBL_20_2.0']\n",
    "\n",
    "# Volume indicator\n",
    "multi_variate_df['Volume_SMA'] = ta.sma(multi_variate_df.Volume, length=20)\n",
    "\n",
    "# Create target variable\n",
    "multi_variate_df['Target'] = multi_variate_df['Adj Close'] - multi_variate_df['Open']\n",
    "multi_variate_df['Target'] = multi_variate_df['Target'].shift(-1)\n",
    "\n",
    "# Clean data\n",
    "multi_variate_df.dropna(inplace=True)\n",
    "multi_variate_df.drop(['Volume', 'Close'], axis=1, inplace=True)\n",
    "\n",
    "print(f\"✓ Multivariate dataset shape: {multi_variate_df.shape}\")\n"
   ]
  },
  {
   "cell_type": "markdown",
   "id": "f19ca3ca",
   "metadata": {},
   "source": [
    "# Visualize Technical Indicators"
   ]
  },
  {
   "cell_type": "code",
   "execution_count": null,
   "id": "1e900e51",
   "metadata": {
    "vscode": {
     "languageId": "plaintext"
    }
   },
   "outputs": [],
   "source": [
    "# Plot technical indicators\n",
    "plt.figure(figsize=(16, 8))\n",
    "\n",
    "# Plot 1: Stock Price and RSI\n",
    "plt.subplot(2, 1, 1)\n",
    "multi_variate_df.loc[f\"{tstart}\":f\"{tend}\", 'High'].plot(\n",
    "    title=\"Tesla Stock Price\", color='blue')\n",
    "plt.ylabel(\"Price ($)\")\n",
    "\n",
    "plt.subplot(2, 1, 2)\n",
    "multi_variate_df.loc[f\"{tstart}\":f\"{tend}\", 'RSI'].plot(\n",
    "    title=\"Tesla RSI\", color='orange')\n",
    "plt.axhline(y=70, color='r', linestyle='--', alpha=0.7, label='Overbought')\n",
    "plt.axhline(y=30, color='g', linestyle='--', alpha=0.7, label='Oversold')\n",
    "plt.ylabel(\"RSI\")\n",
    "plt.legend()\n",
    "\n",
    "plt.tight_layout()\n",
    "plt.savefig(\"output/figures/tesla_rsi_analysis.png\", dpi=300, bbox_inches='tight')\n",
    "plt.show()\n",
    "\n",
    "# Plot 2: Moving Averages\n",
    "plt.figure(figsize=(16, 6))\n",
    "multi_variate_df.loc[f\"{tstart}\":f\"{tend}\", ['High', 'EMA_12', 'EMA_26', 'EMA_50']].plot(\n",
    "    title=\"Tesla Stock Price with Moving Averages\")\n",
    "plt.ylabel(\"Price ($)\")\n",
    "plt.legend()\n",
    "plt.grid(True, alpha=0.3)\n",
    "plt.tight_layout()\n",
    "plt.savefig(\"output/figures/tesla_ema_analysis.png\", dpi=300, bbox_inches='tight')\n",
    "plt.show()\n"
   ]
  },
  {
   "cell_type": "code",
   "execution_count": null,
   "id": "e9adcbc3",
   "metadata": {
    "vscode": {
     "languageId": "plaintext"
    }
   },
   "outputs": [],
   "source": [
    "# Prepare multivariate training data\n",
    "feat_columns = ['Open', 'High', 'RSI', 'EMA_12', 'EMA_26', 'EMA_50', 'MACD', 'BB_Upper']\n",
    "label_col = ['Target']\n",
    "\n",
    "# Split multivariate data\n",
    "mv_training_set, mv_test_set = train_test_split(\n",
    "    multi_variate_df, tstart, tend, feat_columns + label_col)\n",
    "\n",
    "# Extract features and labels\n",
    "X_train_mv = mv_training_set[:, :-1]\n",
    "y_train_mv = mv_training_set[:, -1]\n",
    "X_test_mv = mv_test_set[:, :-1]\n",
    "y_test_mv = mv_test_set[:, -1]\n",
    "\n",
    "print(f\"Multivariate training data shape: {X_train_mv.shape}\")\n",
    "print(f\"Multivariate test data shape: {X_test_mv.shape}\")\n",
    "\n",
    "# Scale multivariate data\n",
    "mv_sc = MinMaxScaler(feature_range=(0, 1))\n",
    "X_train_mv_scaled = mv_sc.fit_transform(X_train_mv)\n",
    "X_test_mv_scaled = mv_sc.transform(X_test_mv)\n",
    "\n",
    "# Create sequences for multivariate data\n",
    "def create_multivariate_sequences(X, y, n_steps):\n",
    "    \"\"\"Create sequences for multivariate time series data\"\"\"\n",
    "    X_seq, y_seq = [], []\n",
    "    for i in range(n_steps, len(X)):\n",
    "        X_seq.append(X[i-n_steps:i])\n",
    "        y_seq.append(y[i])\n",
    "    return np.array(X_seq), np.array(y_seq)\n",
    "\n",
    "mv_n_steps = 30\n",
    "X_train_mv_seq, y_train_mv_seq = create_multivariate_sequences(\n",
    "    X_train_mv_scaled, y_train_mv, mv_n_steps)\n",
    "X_test_mv_seq, y_test_mv_seq = create_multivariate_sequences(\n",
    "    X_test_mv_scaled, y_test_mv, mv_n_steps)\n",
    "\n",
    "print(f\"✓ Multivariate sequences created:\")\n",
    "print(f\"X_train_mv_seq: {X_train_mv_seq.shape}\")\n",
    "print(f\"X_test_mv_seq: {X_test_mv_seq.shape}\")\n"
   ]
  },
  {
   "cell_type": "markdown",
   "id": "ca946a38",
   "metadata": {},
   "source": [
    "# Build and Train Multivariate LSTM Model"
   ]
  },
  {
   "cell_type": "code",
   "execution_count": null,
   "id": "bde5fc2a",
   "metadata": {
    "vscode": {
     "languageId": "plaintext"
    }
   },
   "outputs": [],
   "source": [
    "# Create multivariate LSTM model\n",
    "print(\"Building Multivariate LSTM Model...\")\n",
    "\n",
    "model_mv = Sequential([\n",
    "    LSTM(units=100, return_sequences=True, input_shape=(mv_n_steps, mv_features)),\n",
    "    Dropout(0.3),\n",
    "    LSTM(units=100, return_sequences=True),\n",
    "    Dropout(0.3),\n",
    "    LSTM(units=50),\n",
    "    Dropout(0.3),\n",
    "    Dense(units=50, activation='relu'),\n",
    "    Dropout(0.2),\n",
    "    Dense(units=25, activation='relu'),\n",
    "    Dense(units=1)\n",
    "])\n",
    "\n",
    "# Compile the model\n",
    "model_mv.compile(\n",
    "    optimizer=tf.keras.optimizers.Adam(learning_rate=0.001),\n",
    "    loss=\"mse\",\n",
    "    metrics=['mae']\n",
    ")\n",
    "\n",
    "print(\"Multivariate LSTM Model Architecture:\")\n",
    "model_mv.summary()\n",
    "\n",
    "# Train multivariate LSTM\n",
    "print(\"Training Multivariate LSTM model...\")\n",
    "history_mv = model_mv.fit(\n",
    "    X_train_mv_seq, y_train_mv_seq,\n",
    "    epochs=50,\n",
    "    batch_size=32,\n",
    "    validation_split=0.2,\n",
    "    callbacks=[early_stopping, reduce_lr],\n",
    "    verbose=1\n",
    ")\n",
    "\n",
    "# Plot training history\n",
    "plot_loss(history_mv, \"Multivariate LSTM Training History\", \n",
    "          \"output/figures/mv_lstm_training_loss.png\")\n"
   ]
  },
  {
   "cell_type": "code",
   "execution_count": null,
   "id": "925aca92",
   "metadata": {
    "vscode": {
     "languageId": "plaintext"
    }
   },
   "outputs": [],
   "source": [
    "# Make predictions with multivariate LSTM\n",
    "predictions_mv = model_mv.predict(X_test_mv_seq)\n",
    "\n",
    "# Plot multivariate LSTM predictions\n",
    "plot_predictions(y_test_mv_seq, predictions_mv, \n",
    "                \"Tesla Stock Price - Multivariate LSTM\",\n",
    "                \"output/figures/mv_lstm_predictions.png\")\n",
    "\n",
    "# Calculate multivariate LSTM metrics\n",
    "mv_metrics = calculate_metrics(y_test_mv_seq.reshape(-1, 1), predictions_mv)\n",
    "\n",
    "# Save multivariate LSTM model\n",
    "model_mv.save(\"output/models/tesla_multivariate_lstm_model.h5\")\n",
    "print(\"✓ Multivariate LSTM model saved successfully!\")\n"
   ]
  },
  {
   "cell_type": "markdown",
   "id": "f7ff1842",
   "metadata": {},
   "source": [
    "# Model Comparison and Final Results"
   ]
  },
  {
   "cell_type": "code",
   "execution_count": null,
   "id": "2280c2ef",
   "metadata": {
    "vscode": {
     "languageId": "plaintext"
    }
   },
   "outputs": [],
   "source": [
    "# Create comprehensive model comparison\n",
    "print(\"\\n\" + \"=\"*60)\n",
    "print(\"TESLA STOCK PREDICTION - MODEL COMPARISON\")\n",
    "print(\"=\"*60)\n",
    "\n",
    "# Create comparison DataFrame\n",
    "models_comparison = pd.DataFrame({\n",
    "    'Model': ['RNN', 'LSTM', 'Multivariate LSTM'],\n",
    "    'RMSE': [rnn_metrics['RMSE'], lstm_metrics['RMSE'], mv_metrics['RMSE']],\n",
    "    'MAE': [rnn_metrics['MAE'], lstm_metrics['MAE'], mv_metrics['MAE']],\n",
    "    'MAPE': [rnn_metrics['MAPE'], lstm_metrics['MAPE'], mv_metrics['MAPE']],\n",
    "    'Directional_Accuracy': [rnn_metrics['Directional_Accuracy'], \n",
    "                           lstm_metrics['Directional_Accuracy'], \n",
    "                           mv_metrics['Directional_Accuracy']]\n",
    "})\n",
    "\n",
    "print(models_comparison.to_string(index=False))\n",
    "print(\"=\"*60)\n",
    "\n",
    "# Save comparison results\n",
    "models_comparison.to_csv(\"output/tesla_model_comparison.csv\", index=False)\n",
    "print(\"✓ Model comparison saved to output/tesla_model_comparison.csv\")\n"
   ]
  },
  {
   "cell_type": "markdown",
   "id": "c19c91c2",
   "metadata": {},
   "source": [
    "# Visualize Model Comparison"
   ]
  },
  {
   "cell_type": "code",
   "execution_count": null,
   "id": "a7feec84",
   "metadata": {
    "vscode": {
     "languageId": "plaintext"
    }
   },
   "outputs": [],
   "source": [
    "# Create model comparison visualization\n",
    "fig, axes = plt.subplots(2, 2, figsize=(16, 12))\n",
    "\n",
    "# RMSE comparison\n",
    "axes[0, 0].bar(models_comparison['Model'], models_comparison['RMSE'], \n",
    "               color=['blue', 'green', 'red'])\n",
    "axes[0, 0].set_title('RMSE Comparison')\n",
    "axes[0, 0].set_ylabel('RMSE ($)')\n",
    "\n",
    "# MAE comparison\n",
    "axes[0, 1].bar(models_comparison['Model'], models_comparison['MAE'], \n",
    "               color=['blue', 'green', 'red'])\n",
    "axes[0, 1].set_title('MAE Comparison')\n",
    "axes[0, 1].set_ylabel('MAE ($)')\n",
    "\n",
    "# MAPE comparison\n",
    "axes[1, 0].bar(models_comparison['Model'], models_comparison['MAPE'], \n",
    "               color=['blue', 'green', 'red'])\n",
    "axes[1, 0].set_title('MAPE Comparison')\n",
    "axes[1, 0].set_ylabel('MAPE (%)')\n",
    "\n",
    "# Directional Accuracy comparison\n",
    "axes[1, 1].bar(models_comparison['Model'], models_comparison['Directional_Accuracy'], \n",
    "               color=['blue', 'green', 'red'])\n",
    "axes[1, 1].set_title('Directional Accuracy Comparison')\n",
    "axes[1, 1].set_ylabel('Accuracy (%)')\n",
    "\n",
    "plt.tight_layout()\n",
    "plt.savefig(\"output/figures/tesla_model_comparison.png\", dpi=300, bbox_inches='tight')\n",
    "plt.show()\n",
    "\n",
    "print(\"✓ Model comparison visualization completed!\")\n"
   ]
  },
  {
   "cell_type": "markdown",
   "id": "ee0b2c95",
   "metadata": {},
   "source": [
    "# Final Summary and Conclusion"
   ]
  },
  {
   "cell_type": "markdown",
   "id": "71debb20",
   "metadata": {},
   "source": [
    "# Final project summary\n",
    "print(\"\\n\" + \"=\"*80)\n",
    "print(\"TESLA STOCK PREDICTION PROJECT - FINAL SUMMARY\")\n",
    "print(\"=\"*80)\n",
    "\n",
    "print(f\"\"\"\n",
    "📊 PROJECT COMPLETION SUMMARY:\n",
    "✓ Successfully adapted stock prediction from Apple (AAPL) to Tesla (TSLA)\n",
    "✓ Implemented 3 enhanced deep learning models:\n",
    "  - Enhanced RNN with multiple layers and dropout\n",
    "  - Enhanced LSTM with improved architecture  \n",
    "  - Multivariate LSTM with 8 technical indicators\n",
    "✓ Comprehensive evaluation with multiple metrics\n",
    "✓ Professional visualizations and model comparisons\n",
    "✓ All models saved for future use\n",
    "\n",
    "📈 DATASET INFORMATION:\n",
    "- Stock: Tesla (TSLA)\n",
    "- Data Range: {dataset.index[0].date()} to {dataset.index[-1].date()}\n",
    "- Training Period: {tstart} to {tend}\n",
    "- Test Period: {tend+1} onwards\n",
    "- Total Records: {dataset.shape[0]:,}\n",
    "\n",
    "🎯 BEST PERFORMING MODEL:\n",
    "Based on the comparison metrics, the model with the lowest RMSE is recommended for Tesla stock prediction.\n",
    "\n",
    "📁 OUTPUT FILES GENERATED:\n",
    "- Models: output/models/tesla_*_model.h5\n",
    "- Figures: output/figures/*.png\n",
    "- Comparison: output/tesla_model_comparison.csv\n",
    "\n",
    "🚀 NEXT STEPS:\n",
    "1. Use the trained models for real-time Tesla stock predictions\n",
    "2. Experiment with additional technical indicators\n",
    "3. Implement ensemble methods combining all models\n",
    "4. Consider external factors like news sentiment analysis\n",
    "\"\"\")\n",
    "\n",
    "print(\"=\"*80)\n",
    "print(\"🎉 TESLA STOCK PREDICTION PROJECT COMPLETED SUCCESSFULLY!\")\n",
    "print(\"=\"*80)\n"
   ]
  }
 ],
 "metadata": {
  "language_info": {
   "name": "python"
  }
 },
 "nbformat": 4,
 "nbformat_minor": 5
}
